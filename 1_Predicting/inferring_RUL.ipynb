{
 "cells": [
  {
   "cell_type": "code",
   "execution_count": 1,
   "id": "1bbe2d96",
   "metadata": {},
   "outputs": [],
   "source": [
    "import matplotlib.pyplot as plt\n",
    "import numpy as np\n",
    "import os\n",
    "from sklearn import preprocessing\n",
    "import tensorflow as tf\n",
    "from tensorflow.keras import backend as K\n",
    "from tqdm import tqdm"
   ]
  },
  {
   "cell_type": "code",
   "execution_count": 2,
   "id": "ae44a952",
   "metadata": {},
   "outputs": [],
   "source": [
    "#set up data processing function\n",
    "def norm(data):\n",
    "    a= preprocessing.StandardScaler().fit(data)\n",
    "    d=a.transform(data)\n",
    "    m=a.mean_\n",
    "    s=a.scale_\n",
    "    return m,s\n",
    "def mish(x):\n",
    "        return x * K.tanh(K.softplus(x))    \n",
    "\n",
    "def mae(x,y):\n",
    "    return np.abs(x-y)\n",
    "def feature_selector(model,x,norm):\n",
    "    normalized_data=(np.transpose(x,(0,2,1))-norm[0])/norm[1]\n",
    "    return model.predict(normalized_data,batch_size=128)\n",
    "def concat_data(x1,x2,x3):\n",
    "    normalized_data=(x3-summary_norm[0])/summary_norm[1]\n",
    "    return np.hstack((x1,x2,normalized_data))\n",
    "def re_norm(cell_feature):\n",
    "    log1=[]\n",
    "    log2=[]\n",
    "    for i in range(len(cell_feature)):\n",
    "        len_=len(cell_feature['%d'%(i)])-100\n",
    "        for k in range(len_):\n",
    "            for j in range(0,50,1):            \n",
    "                log1.append(np.float32(k))\n",
    "                log2.append(np.float32(eol_data[i]-k))\n",
    "    log1=np.float32(norm(np.array(log1).reshape(-1,1)))\n",
    "    log2=np.float32(norm(np.array(log2).reshape(-1,1)))\n",
    "    return log1,log2\n",
    "def process2predict(cell_feature):\n",
    "    s_norm,rul_norm=re_norm(cell_feature)\n",
    "    x_in=[]\n",
    "    y_in=[]\n",
    "    for i in range(len(cell_feature)):\n",
    "        col1=[]\n",
    "        col2=[]\n",
    "        len_=len(cell_feature['%d'%(i)])-100  \n",
    "        for k in range(len_):\n",
    "            for j in range(0,50,1):            \n",
    "                temp=cell_feature['%d'%(i)][k:(j+k+1)]\n",
    "                col1.append(np.float32(np.pad(temp, ((0,50-j-1),(0,0)), 'edge')))\n",
    "                col2.append(np.float32(((eol_data[i]-k))-rul_norm[0])/rul_norm[1])\n",
    "                col2.append((np.float32(k)-s_norm[0])/s_norm[1])\n",
    "        x_in.append(col1)\n",
    "        y_in.append(col2)\n",
    "    return x_in,y_in"
   ]
  },
  {
   "cell_type": "code",
   "execution_count": 3,
   "id": "123c8348",
   "metadata": {},
   "outputs": [],
   "source": [
    "#loading_data\n",
    "\n",
    "data_dir='dataset'\n",
    "model_dir='pretrained'\n",
    "\n",
    "\n",
    "eol_data = np.load('%s/battery_EoL.npy'%(data_dir),allow_pickle='TRUE')\n",
    "battery_id = np.load('%s/index_battery.npy'%(data_dir),allow_pickle='TRUE')\n",
    "charge_data=np.load('%s/charge_data.npy'%(data_dir),allow_pickle='TRUE').tolist()\n",
    "discharge_data=np.load('%s/discharge_data.npy'%(data_dir),allow_pickle='TRUE').tolist()\n",
    "summary_data=np.load('%s/summary_data.npy'%(data_dir),allow_pickle='TRUE').tolist()\n",
    "charge_norm=np.load('%s/charge_norm.npy'%(data_dir),allow_pickle='TRUE').tolist()\n",
    "discharge_norm=np.load('%s/discharge_norm.npy'%(data_dir),allow_pickle='TRUE').tolist()\n",
    "summary_norm=np.load('%s/summary_norm.npy'%(data_dir),allow_pickle='TRUE').tolist()\n",
    "index=np.load('%s/index_battery.npy'%(data_dir))\n",
    "predict_renorm=np.load('%s/predict_renorm.npy'%(data_dir))"
   ]
  },
  {
   "cell_type": "code",
   "execution_count": 4,
   "id": "bf284a8e",
   "metadata": {},
   "outputs": [],
   "source": [
    "#loading pre-trained model\n",
    "feature_selector_ch=tf.keras.models.load_model('%s/feature_selector_ch.h5'%(model_dir), compile=False)\n",
    "feature_selector_dis=tf.keras.models.load_model('%s/feature_selector_dis.h5'%(model_dir), compile=False,custom_objects={'mish':mish})\n",
    "predictor=tf.keras.models.load_model('%s/predictor.h5'%(model_dir), compile=False,custom_objects={'mish':mish})"
   ]
  },
  {
   "cell_type": "code",
   "execution_count": 5,
   "id": "08df9cc9",
   "metadata": {},
   "outputs": [],
   "source": [
    "# set the prediction sample\n",
    "cell_number=9 #battery id\n",
    "cycle=100     #strating cycle\n",
    "append=5      #attach n cycle feature "
   ]
  },
  {
   "cell_type": "code",
   "execution_count": 6,
   "id": "79ebe207",
   "metadata": {},
   "outputs": [],
   "source": [
    "#feature selector & concatenate data-driven feature and Summary feature\n",
    "charge_feature=feature_selector(feature_selector_ch,\n",
    "                                charge_data[cell_number][cycle:(cycle+append)],charge_norm)\n",
    "discharge_feature=feature_selector(feature_selector_dis,\n",
    "                                discharge_data[cell_number][cycle:(cycle+append)],discharge_norm)\n",
    "cell_feature=concat_data(charge_feature,\n",
    "                         discharge_feature,\n",
    "                           summary_data[cell_number][cycle:(cycle+append)])    \n",
    "cell_feature=np.pad(cell_feature, ((0,50-len(cell_feature)),(0,0)), 'edge').reshape(-1,50,12)\n"
   ]
  },
  {
   "cell_type": "code",
   "execution_count": 7,
   "id": "0b10e5de",
   "metadata": {},
   "outputs": [
    {
     "name": "stdout",
     "output_type": "stream",
     "text": [
      "Predict RUL/S is 611/82\n",
      "Ground truth RUL/S is 609/100\n"
     ]
    }
   ],
   "source": [
    "#Prediction & compute the error\n",
    "\n",
    "p1=(predictor.predict(cell_feature)*predict_renorm[:,1]+predict_renorm[:,0])[0]\n",
    "ans=np.array([eol_data[cell_number]-cycle,cycle])\n",
    "\n",
    "print('Predict RUL/S is %d/%d'%(p1[0],p1[1]))\n",
    "print('Ground truth RUL/S is %d/%d'%(ans[0],ans[1]))"
   ]
  },
  {
   "cell_type": "code",
   "execution_count": null,
   "id": "9fe5350b",
   "metadata": {},
   "outputs": [],
   "source": []
  }
 ],
 "metadata": {
  "kernelspec": {
   "display_name": "Python 3",
   "language": "python",
   "name": "python3"
  },
  "language_info": {
   "codemirror_mode": {
    "name": "ipython",
    "version": 3
   },
   "file_extension": ".py",
   "mimetype": "text/x-python",
   "name": "python",
   "nbconvert_exporter": "python",
   "pygments_lexer": "ipython3",
   "version": "3.8.8"
  }
 },
 "nbformat": 4,
 "nbformat_minor": 5
}
